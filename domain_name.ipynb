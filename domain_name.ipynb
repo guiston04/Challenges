{
 "cells": [
  {
   "cell_type": "code",
   "execution_count": 6,
   "id": "f001107d",
   "metadata": {},
   "outputs": [],
   "source": [
    "def domain_name(url):\n",
    "    if 'www' in url:\n",
    "        domain = url.split('.')\n",
    "        d = domain[1]\n",
    "    else:\n",
    "        domain = url.split('//') #si no tiene www, tiene http/https y sino no tiene nada\n",
    "        domain2 = domain[len(domain)-1].split('.') #si no tiene nada por delante con esa fórmula nos quedamos siempre con el último componente de domain, aún si es 1\n",
    "        d = domain2[0]\n",
    "    return d\n",
    "\n"
   ]
  },
  {
   "cell_type": "code",
   "execution_count": 7,
   "id": "6fb5843b",
   "metadata": {},
   "outputs": [
    {
     "data": {
      "text/plain": [
       "'google'"
      ]
     },
     "execution_count": 7,
     "metadata": {},
     "output_type": "execute_result"
    }
   ],
   "source": [
    "domain_name(\"http://www.google.co.jp\")\n"
   ]
  },
  {
   "cell_type": "code",
   "execution_count": null,
   "id": "d3ae12cb",
   "metadata": {},
   "outputs": [],
   "source": []
  },
  {
   "cell_type": "code",
   "execution_count": null,
   "id": "24d8e0ac",
   "metadata": {},
   "outputs": [],
   "source": []
  }
 ],
 "metadata": {
  "kernelspec": {
   "display_name": "Python 3 (ipykernel)",
   "language": "python",
   "name": "python3"
  },
  "language_info": {
   "codemirror_mode": {
    "name": "ipython",
    "version": 3
   },
   "file_extension": ".py",
   "mimetype": "text/x-python",
   "name": "python",
   "nbconvert_exporter": "python",
   "pygments_lexer": "ipython3",
   "version": "3.9.12"
  }
 },
 "nbformat": 4,
 "nbformat_minor": 5
}
