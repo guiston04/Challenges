{
 "cells": [
  {
   "cell_type": "code",
   "execution_count": null,
   "id": "17009a16",
   "metadata": {},
   "outputs": [],
   "source": [
    "class User(object):\n",
    "    def __init__(self, name, balance, checking_account):\n",
    "        self.name = name\n",
    "        self.balance = balance\n",
    "        self.checking_account = checking_account\n",
    "    \n",
    "    def withdraw(self, money):\n",
    "        if self.balance - money < 0:\n",
    "            raise ValueError ('No tienes suficiente pasta en el balance')\n",
    "        else:\n",
    "            self.balance = self.balance - money            \n",
    "        return f'{self.name} has {self.balance}.'\n",
    "    \n",
    "    def check(self, user, money):\n",
    "        if user.balance >= money and user.checking_account == True:\n",
    "            self.balance = self.balance + money\n",
    "            user.balance = user.balance - money\n",
    "        else:\n",
    "            raise ValueError ('O tienes suficiente pasta en el balance o no tienes checking account')\n",
    "        return f'{self.name} has {self.balance} and {user.name} has {user.balance}.'\n",
    "    \n",
    "    def add_cash(self, money):\n",
    "        self.balance = self.balance + money\n",
    "        return f'{self.name} has {self.balance}.'"
   ]
  }
 ],
 "metadata": {
  "kernelspec": {
   "display_name": "Python 3 (ipykernel)",
   "language": "python",
   "name": "python3"
  },
  "language_info": {
   "codemirror_mode": {
    "name": "ipython",
    "version": 3
   },
   "file_extension": ".py",
   "mimetype": "text/x-python",
   "name": "python",
   "nbconvert_exporter": "python",
   "pygments_lexer": "ipython3",
   "version": "3.9.12"
  }
 },
 "nbformat": 4,
 "nbformat_minor": 5
}
