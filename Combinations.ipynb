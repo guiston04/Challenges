{
 "cells": [
  {
   "cell_type": "code",
   "execution_count": 106,
   "id": "30d132da",
   "metadata": {},
   "outputs": [],
   "source": [
    "import numpy as np\n",
    "from itertools import combinations\n",
    "\n",
    "def combs(arr, num_fact):\n",
    "    comb = combinations(arr, num_fact)\n",
    "    return list(comb)\n",
    "\n",
    "\n",
    "def prod(val):  \n",
    "    res = 1 \n",
    "    for ele in val:  \n",
    "        res *= ele  \n",
    "    return res\n",
    "\n",
    "def adds(val):  \n",
    "    res = 0 \n",
    "    for ele in val:  \n",
    "        res += ele  \n",
    "    return res\n",
    "\n",
    "\n",
    "def eval_prod_sum(arr, num_fact, num_add, max_val):\n",
    "    values = [num_fact, num_add, max_val]\n",
    "    if any(isinstance(val, (str, float, str, list, dict, tuple)) for val in arr):\n",
    "        return \"Error. Unexpected entries\"\n",
    "    elif any(isinstance(val, (str, float, str, list, dict, tuple)) or val == 0 or val < 0 for val in values):\n",
    "        return \"Error. Unexpected entries\"\n",
    "    elif num_fact > len(arr):\n",
    "        return \"Error. Number of factors too high\"\n",
    "    elif num_add > len(combs(arr, num_fact)):\n",
    "        return \"Error. Number of addens too high\"\n",
    "    else:\n",
    "        comb1 = combs(arr, num_fact)\n",
    "        addens = [prod(list(i)) for i in comb1]\n",
    "        comb2 = combs(addens, num_add)\n",
    "        sums = [adds(list(i)) for i in comb2]\n",
    "        smaller = 0\n",
    "        equal = 0\n",
    "        larger = 0\n",
    "        for e in sums:\n",
    "            if e < max_val:\n",
    "                smaller += 1\n",
    "            elif e == max_val:\n",
    "                equal += 1\n",
    "            elif e > max_val:\n",
    "                larger += 1\n",
    "    return [{\"Below than \" + str(max_val): smaller},\n",
    "            {\"Equals to \" + str(max_val): equal},\n",
    "            {\"Higher than \" + str(max_val): larger}]"
   ]
  }
 ],
 "metadata": {
  "kernelspec": {
   "display_name": "Python [conda env:jp_env] *",
   "language": "python",
   "name": "conda-env-jp_env-py"
  },
  "language_info": {
   "codemirror_mode": {
    "name": "ipython",
    "version": 3
   },
   "file_extension": ".py",
   "mimetype": "text/x-python",
   "name": "python",
   "nbconvert_exporter": "python",
   "pygments_lexer": "ipython3",
   "version": "3.9.12"
  }
 },
 "nbformat": 4,
 "nbformat_minor": 5
}
