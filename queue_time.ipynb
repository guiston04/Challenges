{
 "cells": [
  {
   "cell_type": "code",
   "execution_count": 1,
   "id": "c86c695d",
   "metadata": {},
   "outputs": [],
   "source": [
    "def queue_time(customers, n):\n",
    "    #print(customers, n)\n",
    "    tills = [0]*n\n",
    "    for i in customers:\n",
    "        tills[0] += i\n",
    "        tills = sorted(tills)\n",
    "        #print(tills)\n",
    "    return tills[-1]"
   ]
  },
  {
   "cell_type": "code",
   "execution_count": null,
   "id": "374c0ab5",
   "metadata": {},
   "outputs": [],
   "source": []
  }
 ],
 "metadata": {
  "kernelspec": {
   "display_name": "Python 3 (ipykernel)",
   "language": "python",
   "name": "python3"
  },
  "language_info": {
   "codemirror_mode": {
    "name": "ipython",
    "version": 3
   },
   "file_extension": ".py",
   "mimetype": "text/x-python",
   "name": "python",
   "nbconvert_exporter": "python",
   "pygments_lexer": "ipython3",
   "version": "3.9.12"
  }
 },
 "nbformat": 4,
 "nbformat_minor": 5
}
