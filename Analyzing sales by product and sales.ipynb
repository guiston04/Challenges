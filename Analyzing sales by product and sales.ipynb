{
 "cells": [
  {
   "cell_type": "markdown",
   "id": "7d6e9aec",
   "metadata": {},
   "source": [
    "SELECT \n",
    "p.name as product_name,\n",
    "EXTRACT(YEAR FROM s.date) as \"year\",\n",
    "EXTRACT(MONTH FROM s.date) as \"month\",\n",
    "EXTRACT(DAY FROM s.date) as \"day\",\n",
    "sum(p.price * sd.count) as total\n",
    "FROM sales_details AS sd\n",
    "LEFT JOIN\n",
    "sales as s\n",
    "on sd.sale_id = s.id\n",
    "LEFT JOIN\n",
    "products as p\n",
    "on\n",
    "sd.product_id = p.id\n",
    "group by p.name, ROLLUP(\"year\", \"month\", \"day\")\n",
    "order by p.name, \"year\", \"month\", \"day\""
   ]
  },
  {
   "cell_type": "code",
   "execution_count": null,
   "id": "a7953d3b",
   "metadata": {},
   "outputs": [],
   "source": []
  }
 ],
 "metadata": {
  "kernelspec": {
   "display_name": "Python [conda env:jp_env] *",
   "language": "python",
   "name": "conda-env-jp_env-py"
  },
  "language_info": {
   "codemirror_mode": {
    "name": "ipython",
    "version": 3
   },
   "file_extension": ".py",
   "mimetype": "text/x-python",
   "name": "python",
   "nbconvert_exporter": "python",
   "pygments_lexer": "ipython3",
   "version": "3.9.12"
  }
 },
 "nbformat": 4,
 "nbformat_minor": 5
}
