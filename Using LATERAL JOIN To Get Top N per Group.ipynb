{
 "cells": [
  {
   "cell_type": "code",
   "execution_count": null,
   "id": "674daaf0",
   "metadata": {},
   "outputs": [],
   "source": [
    "SELECT cat.id as category_id, cat.category, jo.title, jo.views, jo.id as post_id\n",
    "FROM categories cat\n",
    "LEFT JOIN LATERAL (SELECT po.id, title, po.views, po.category_id\n",
    "          FROM posts po\n",
    "          WHERE cat.id = po.category_id\n",
    "          ORDER BY po.views DESC\n",
    "          FETCH FIRST 2 ROWS ONLY) jo\n",
    "on cat.id = jo.category_id\n",
    "ORDER BY category, jo.views DESC, post_id ASC"
   ]
  }
 ],
 "metadata": {
  "kernelspec": {
   "display_name": "Python [conda env:jp_env] *",
   "language": "python",
   "name": "conda-env-jp_env-py"
  },
  "language_info": {
   "codemirror_mode": {
    "name": "ipython",
    "version": 3
   },
   "file_extension": ".py",
   "mimetype": "text/x-python",
   "name": "python",
   "nbconvert_exporter": "python",
   "pygments_lexer": "ipython3",
   "version": "3.9.12"
  }
 },
 "nbformat": 4,
 "nbformat_minor": 5
}
