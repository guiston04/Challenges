{
 "cells": [
  {
   "cell_type": "markdown",
   "id": "0cbc591e",
   "metadata": {},
   "source": [
    "SELECT p.customer_id, c.email,count(p.payment_id) as payments_count,\n",
    "cast(sum(p.amount) as float) as total_amount\n",
    "FROM payment p \n",
    "INNER JOIN customer c\n",
    "ON p.customer_id = c.customer_id\n",
    "GROUP BY p.customer_id, c.email\n",
    "ORDER BY total_amount desc\n",
    "LIMIT 10"
   ]
  }
 ],
 "metadata": {
  "kernelspec": {
   "display_name": "Python 3 (ipykernel)",
   "language": "python",
   "name": "python3"
  },
  "language_info": {
   "codemirror_mode": {
    "name": "ipython",
    "version": 3
   },
   "file_extension": ".py",
   "mimetype": "text/x-python",
   "name": "python",
   "nbconvert_exporter": "python",
   "pygments_lexer": "ipython3",
   "version": "3.9.12"
  }
 },
 "nbformat": 4,
 "nbformat_minor": 5
}
