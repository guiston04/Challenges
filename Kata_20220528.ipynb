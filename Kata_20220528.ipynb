{
 "cells": [
  {
   "cell_type": "markdown",
   "id": "c2ba4218",
   "metadata": {},
   "source": [
    "Kata Sabado"
   ]
  },
  {
   "cell_type": "code",
   "execution_count": 15,
   "id": "9682c805",
   "metadata": {},
   "outputs": [],
   "source": [
    "def sp_eng(sentence):\n",
    "    sentence = fullstring.lower()\n",
    "    substring = \"english\"\n",
    "    \n",
    "    if substring in fullstring:\n",
    "        x = True \n",
    "    else:\n",
    "        x = False\n",
    "       \n",
    "    return x"
   ]
  },
  {
   "cell_type": "code",
   "execution_count": 14,
   "id": "eaa5c84e",
   "metadata": {},
   "outputs": [
    {
     "data": {
      "text/plain": [
       "True"
      ]
     },
     "execution_count": 14,
     "metadata": {},
     "output_type": "execute_result"
    }
   ],
   "source": [
    "sp_eng(\"english\")"
   ]
  },
  {
   "cell_type": "code",
   "execution_count": null,
   "id": "bb969c81",
   "metadata": {},
   "outputs": [],
   "source": [
    "def sp_eng2(sentence):\n",
    "    return 'english' in sentence.lower()"
   ]
  },
  {
   "cell_type": "code",
   "execution_count": 18,
   "id": "3719c726",
   "metadata": {},
   "outputs": [
    {
     "name": "stdout",
     "output_type": "stream",
     "text": [
      "['www', 'guillaume', 'com']\n"
     ]
    }
   ],
   "source": [
    "x = \"www.guillaume.com\"\n",
    "x_list = x.split(\".\")\n",
    "print(x_list)"
   ]
  },
  {
   "cell_type": "code",
   "execution_count": null,
   "id": "ee572833",
   "metadata": {},
   "outputs": [],
   "source": []
  }
 ],
 "metadata": {
  "kernelspec": {
   "display_name": "Python 3 (ipykernel)",
   "language": "python",
   "name": "python3"
  },
  "language_info": {
   "codemirror_mode": {
    "name": "ipython",
    "version": 3
   },
   "file_extension": ".py",
   "mimetype": "text/x-python",
   "name": "python",
   "nbconvert_exporter": "python",
   "pygments_lexer": "ipython3",
   "version": "3.9.12"
  }
 },
 "nbformat": 4,
 "nbformat_minor": 5
}
