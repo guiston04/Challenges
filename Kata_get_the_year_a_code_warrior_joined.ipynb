{
 "cells": [
  {
   "cell_type": "markdown",
   "id": "712b16c3",
   "metadata": {},
   "source": [
    "import requests\n",
    "from bs4 import BeautifulSoup\n",
    "import re\n",
    "\n",
    "def get_member_since(username):\n",
    "    url = 'https://www.codewars.com/users/' +username\n",
    "    r= requests.get(url)\n",
    "    r=r.content\n",
    "    parsed_html = BeautifulSoup(r, \"html.parser\") \n",
    "    user=parsed_html.find_all('div',{\"class\",\"stat-box mt-1 mb-1 md:mb-0\"})\n",
    "    string=str(user[1])\n",
    "    pattern = '\\>(.*?)\\<'\n",
    "    fecha=re.findall(pattern, string)\n",
    "    return fecha[3]\n",
    "    "
   ]
  },
  {
   "cell_type": "code",
   "execution_count": null,
   "id": "a047bd5c",
   "metadata": {},
   "outputs": [],
   "source": []
  }
 ],
 "metadata": {
  "kernelspec": {
   "display_name": "Python [conda env:jp_env] *",
   "language": "python",
   "name": "conda-env-jp_env-py"
  },
  "language_info": {
   "codemirror_mode": {
    "name": "ipython",
    "version": 3
   },
   "file_extension": ".py",
   "mimetype": "text/x-python",
   "name": "python",
   "nbconvert_exporter": "python",
   "pygments_lexer": "ipython3",
   "version": "3.9.12"
  }
 },
 "nbformat": 4,
 "nbformat_minor": 5
}
