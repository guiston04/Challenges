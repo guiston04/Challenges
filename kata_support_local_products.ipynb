{
 "cells": [
  {
   "cell_type": "markdown",
   "id": "09b789ca",
   "metadata": {},
   "source": [
    "SELECT distinct country, count(*) as products\n",
    "FROM products \n",
    "WHERE country in('Canada','United States of America')\n",
    "GROUP BY country\n",
    "ORDER BY products desc"
   ]
  }
 ],
 "metadata": {
  "kernelspec": {
   "display_name": "Python [conda env:jp_env] *",
   "language": "python",
   "name": "conda-env-jp_env-py"
  },
  "language_info": {
   "codemirror_mode": {
    "name": "ipython",
    "version": 3
   },
   "file_extension": ".py",
   "mimetype": "text/x-python",
   "name": "python",
   "nbconvert_exporter": "python",
   "pygments_lexer": "ipython3",
   "version": "3.9.12"
  }
 },
 "nbformat": 4,
 "nbformat_minor": 5
}
