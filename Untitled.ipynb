{
 "cells": [
  {
   "cell_type": "code",
   "execution_count": 1,
   "id": "66cc9f91",
   "metadata": {},
   "outputs": [],
   "source": [
    "import requests\n",
    "from bs4 import BeautifulSoup\n",
    "import pandas as pd"
   ]
  },
  {
   "cell_type": "code",
   "execution_count": 2,
   "id": "9f1615f4",
   "metadata": {},
   "outputs": [],
   "source": [
    "username = 'Guillaume_Dieude'\n",
    "\n",
    "url = 'https://www.codewars.com/users/' + username"
   ]
  },
  {
   "cell_type": "code",
   "execution_count": null,
   "id": "76b0fa2c",
   "metadata": {},
   "outputs": [],
   "source": [
    "requests = requests.get(url)\n"
   ]
  }
 ],
 "metadata": {
  "kernelspec": {
   "display_name": "Python [conda env:jp_env] *",
   "language": "python",
   "name": "conda-env-jp_env-py"
  },
  "language_info": {
   "codemirror_mode": {
    "name": "ipython",
    "version": 3
   },
   "file_extension": ".py",
   "mimetype": "text/x-python",
   "name": "python",
   "nbconvert_exporter": "python",
   "pygments_lexer": "ipython3",
   "version": "3.9.12"
  }
 },
 "nbformat": 4,
 "nbformat_minor": 5
}
