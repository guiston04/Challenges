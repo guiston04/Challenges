{
 "cells": [
  {
   "cell_type": "markdown",
   "id": "6745dec7",
   "metadata": {},
   "source": [
    "**KATA 1** \n",
    "\n",
    "SELECT date(events.created_at) as \"day\",events.description, count(events.id) FROM events \n",
    "where events.name = 'trained'\n",
    "group by events.description, \"day\"\n",
    "order by \"day\""
   ]
  },
  {
   "cell_type": "markdown",
   "id": "506aef37",
   "metadata": {},
   "source": [
    "**KATA 2**\n",
    "\n",
    "SELECT capital FROM countries\n",
    "where continent in ('Africa','Afrika') and substring(country,1,1)='E'\n",
    "order by capital\n",
    "LIMIT 3-- Your solution here"
   ]
  },
  {
   "cell_type": "markdown",
   "id": "3a48af86",
   "metadata": {},
   "source": [
    "**KATA 3**\n",
    "\n",
    "SELECT \n",
    "  DATE(s.transaction_date) as \"day\",\n",
    "  d.name as department,\n",
    "  COUNT(s.id) as sale_count\n",
    "  FROM department d\n",
    "    JOIN sale s on d.id = s.department_id\n",
    "  group by \"day\", department\n",
    "  order by \"day\" asc\n",
    " "
   ]
  },
  {
   "cell_type": "code",
   "execution_count": null,
   "id": "3a400b11",
   "metadata": {},
   "outputs": [],
   "source": []
  }
 ],
 "metadata": {
  "kernelspec": {
   "display_name": "Python 3 (ipykernel)",
   "language": "python",
   "name": "python3"
  },
  "language_info": {
   "codemirror_mode": {
    "name": "ipython",
    "version": 3
   },
   "file_extension": ".py",
   "mimetype": "text/x-python",
   "name": "python",
   "nbconvert_exporter": "python",
   "pygments_lexer": "ipython3",
   "version": "3.9.12"
  }
 },
 "nbformat": 4,
 "nbformat_minor": 5
}
