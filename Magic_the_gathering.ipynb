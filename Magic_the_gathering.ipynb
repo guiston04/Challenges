{
 "cells": [
  {
   "cell_type": "code",
   "execution_count": 60,
   "id": "482bae85",
   "metadata": {},
   "outputs": [],
   "source": [
    "def battle(player1, player2):\n",
    "    \n",
    "    player1 = player1\n",
    "    player2 = player2\n",
    "    \n",
    "    survive = {'player1':[],\n",
    "          'player2':[]}\n",
    "\n",
    "    not_in_fight = []\n",
    "\n",
    "    if len(player1) < len(player2):\n",
    "        x = len(player1)\n",
    "        not_in_fight = player2[len(player1):]\n",
    "    \n",
    "    elif len(player2) < len(player1):\n",
    "        x = len(player2)\n",
    "        not_in_fight = player1[len(player2):]\n",
    "    \n",
    "    else: x = len(player2)\n",
    "\n",
    "    for i in range(x):\n",
    "        card_player1 = player1[i]\n",
    "        card_player2 = player2[i]\n",
    "\n",
    "        #card player 1 vs card player 2\n",
    "        p1_vs_p2 = player1[i][0]-player2[i][1]\n",
    "        p2_vs_p1 = player2[i][0]-player1[i][1]\n",
    "\n",
    "    \n",
    "        if p1_vs_p2 < 0:\n",
    "        \n",
    "            survive['player2'].append(card_player2)\n",
    "    \n",
    "        if p2_vs_p1 < 0:\n",
    "        \n",
    "            survive['player1'].append(card_player1)\n",
    "\n",
    "    if len(player2) < len(player1):\n",
    "        for i in not_in_fight:\n",
    "            survive['player1'].append(i)\n",
    "\n",
    "    elif len(player1) < len(player2):\n",
    "        for i in not_in_fight:\n",
    "            survive['player2'].append(i)\n",
    "        \n",
    "    return survive"
   ]
  },
  {
   "cell_type": "code",
   "execution_count": 61,
   "id": "11584bbe",
   "metadata": {},
   "outputs": [
    {
     "data": {
      "text/plain": [
       "{'player1': [[2, 10], [5, 5]], 'player2': [[1, 10], [3, 3]]}"
      ]
     },
     "execution_count": 61,
     "metadata": {},
     "output_type": "execute_result"
    }
   ],
   "source": [
    "battle([[2, 10], [2, 1], [2, 2], [5, 5]],[[1, 10], [2, 1], [3, 3]])"
   ]
  },
  {
   "cell_type": "code",
   "execution_count": null,
   "id": "06e5fad8",
   "metadata": {},
   "outputs": [],
   "source": []
  }
 ],
 "metadata": {
  "kernelspec": {
   "display_name": "Python [conda env:jp_env] *",
   "language": "python",
   "name": "conda-env-jp_env-py"
  },
  "language_info": {
   "codemirror_mode": {
    "name": "ipython",
    "version": 3
   },
   "file_extension": ".py",
   "mimetype": "text/x-python",
   "name": "python",
   "nbconvert_exporter": "python",
   "pygments_lexer": "ipython3",
   "version": "3.9.12"
  }
 },
 "nbformat": 4,
 "nbformat_minor": 5
}
